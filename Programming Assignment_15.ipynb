{
 "cells": [
  {
   "cell_type": "markdown",
   "id": "7df6e6a0",
   "metadata": {},
   "source": [
    "## Python Basic Programming Assignment - 15\n",
    "-------------------"
   ]
  },
  {
   "cell_type": "markdown",
   "id": "de299c62",
   "metadata": {},
   "source": [
    "### 1. Please write a program using generator to print the numbers which can be divisible by 5 and 7 between 0 and n in comma separated form while n is input by console."
   ]
  },
  {
   "cell_type": "code",
   "execution_count": 3,
   "id": "0662cfd9",
   "metadata": {},
   "outputs": [
    {
     "name": "stdout",
     "output_type": "stream",
     "text": [
      "100\n",
      "0,35,70\n"
     ]
    }
   ],
   "source": [
    "def generate(n):\n",
    "    for i in range(n+1):\n",
    "        if i % 35 == 0:    # 5*7 = 35, if a number is divisible by a & b then it is also divisible by a*b\n",
    "            yield i\n",
    "\n",
    "n = int(input())\n",
    "resp = [str(i) for i in generate(n)]\n",
    "print(\",\".join(resp))\n"
   ]
  },
  {
   "cell_type": "markdown",
   "id": "c04aab80",
   "metadata": {},
   "source": [
    "\n",
    "### 2. Please write a program using generator to print the even numbers between 0 and n in comma separated form while n is input by console."
   ]
  },
  {
   "cell_type": "code",
   "execution_count": 7,
   "id": "b253ef52",
   "metadata": {},
   "outputs": [
    {
     "name": "stdout",
     "output_type": "stream",
     "text": [
      "20\n",
      "0,2,4,6,8,10,12,14,16,18,20\n"
     ]
    }
   ],
   "source": [
    "def EvenGenerator(n):\n",
    "    i=0\n",
    "    while i<=n:\n",
    "        if i%2==0:\n",
    "            yield i\n",
    "        i+=1\n",
    "\n",
    "\n",
    "n=int(input())\n",
    "values = []\n",
    "for i in EvenGenerator(n):\n",
    "    values.append(str(i))\n",
    "\n",
    "print(\",\".join(values))"
   ]
  },
  {
   "cell_type": "markdown",
   "id": "35b72559",
   "metadata": {},
   "source": [
    "### 3. Please write a program using list comprehension to print the Fibonacci Sequence in comma separated form with a given n input by console."
   ]
  },
  {
   "cell_type": "code",
   "execution_count": 10,
   "id": "e19c40bc",
   "metadata": {},
   "outputs": [
    {
     "name": "stdout",
     "output_type": "stream",
     "text": [
      "10\n",
      "0 1 1 2 3 5 8 13 21 34\n"
     ]
    }
   ],
   "source": [
    "n = int(input())\n",
    "fib = [0, 1]\n",
    "[fib.append(sum(fib[-2:])) for x in range(n)]\n",
    "print(*(fib[:n]))"
   ]
  },
  {
   "cell_type": "markdown",
   "id": "dea0be0f",
   "metadata": {},
   "source": [
    "\n",
    "### 4. Assuming that we have some email addresses in the \"username@companyname.com\" format, please write program to print the user name of a given email address. Both user names and company names are composed of letters only."
   ]
  },
  {
   "cell_type": "code",
   "execution_count": 12,
   "id": "424f2d0c",
   "metadata": {},
   "outputs": [
    {
     "name": "stdout",
     "output_type": "stream",
     "text": [
      "['accenture', 'python']\n"
     ]
    }
   ],
   "source": [
    "import re\n",
    "\n",
    "email = \"stephen@accenture.com rachel@python.com\"\n",
    "pattern = \"\\w+@(\\w+).com\"\n",
    "ans = re.findall(pattern,email)\n",
    "print(ans)"
   ]
  },
  {
   "cell_type": "markdown",
   "id": "2834c88f",
   "metadata": {},
   "source": [
    "\n",
    "### 5. Define a class named Shape and its subclass Square. The Square class has an init function which takes a length as argument. Both classes have a area function which can print the area of the shape where Shape's area is 0 by default."
   ]
  },
  {
   "cell_type": "code",
   "execution_count": 13,
   "id": "73a7880b",
   "metadata": {},
   "outputs": [
    {
     "name": "stdout",
     "output_type": "stream",
     "text": [
      "25\n",
      "0\n"
     ]
    }
   ],
   "source": [
    "class Shape():\n",
    "    def __init__(self):\n",
    "        pass\n",
    "\n",
    "    def area(self):\n",
    "        return 0\n",
    "\n",
    "class Square(Shape):\n",
    "    def __init__(self,length = 0):\n",
    "        Shape.__init__(self)\n",
    "        self.length = length\n",
    "\n",
    "    def area(self):\n",
    "        return self.length*self.length\n",
    "\n",
    "Asqr = Square(5)\n",
    "print(Asqr.area())      \n",
    "\n",
    "print(Square().area())"
   ]
  }
 ],
 "metadata": {
  "kernelspec": {
   "display_name": "Python 3 (ipykernel)",
   "language": "python",
   "name": "python3"
  },
  "language_info": {
   "codemirror_mode": {
    "name": "ipython",
    "version": 3
   },
   "file_extension": ".py",
   "mimetype": "text/x-python",
   "name": "python",
   "nbconvert_exporter": "python",
   "pygments_lexer": "ipython3",
   "version": "3.9.7"
  },
  "toc": {
   "base_numbering": 1,
   "nav_menu": {},
   "number_sections": true,
   "sideBar": true,
   "skip_h1_title": false,
   "title_cell": "Table of Contents",
   "title_sidebar": "Contents",
   "toc_cell": false,
   "toc_position": {},
   "toc_section_display": true,
   "toc_window_display": false
  }
 },
 "nbformat": 4,
 "nbformat_minor": 5
}
