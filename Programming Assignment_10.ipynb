{
 "cells": [
  {
   "cell_type": "markdown",
   "id": "3dcb940f",
   "metadata": {},
   "source": [
    "## Python Basic Programming Assignment 10"
   ]
  },
  {
   "cell_type": "markdown",
   "id": "6720790a",
   "metadata": {},
   "source": [
    "### 1. Write a Python program to find sum of elements in list?"
   ]
  },
  {
   "cell_type": "code",
   "execution_count": 1,
   "id": "ab9c0e4e",
   "metadata": {},
   "outputs": [
    {
     "name": "stdout",
     "output_type": "stream",
     "text": [
      "[10, 9, 7, 5]\n",
      "sum of list:  31\n"
     ]
    }
   ],
   "source": [
    "# sum of elements\n",
    "\n",
    "def sumlist(list):\n",
    "    sum=0\n",
    "    for i in range(len(list)):\n",
    "        sum = sum+list[i]\n",
    "    return sum\n",
    "\n",
    "#initialise list\n",
    "list = [10, 9, 7, 5]\n",
    "print(list)\n",
    "print(\"sum of list: \",sumlist(list))"
   ]
  },
  {
   "cell_type": "markdown",
   "id": "fe1137c3",
   "metadata": {},
   "source": [
    "### 2. Write a Python program to  Multiply all numbers in the list?"
   ]
  },
  {
   "cell_type": "code",
   "execution_count": 3,
   "id": "6884f342",
   "metadata": {},
   "outputs": [
    {
     "name": "stdout",
     "output_type": "stream",
     "text": [
      "[11, 12, 4, 3]\n",
      "product: \n",
      "1584\n"
     ]
    }
   ],
   "source": [
    "def mul_list(list) :\n",
    "     \n",
    "    # Multiply elements one by one\n",
    "    product = 1\n",
    "    for i in list:\n",
    "         product = product * i\n",
    "    return product\n",
    "     \n",
    "\n",
    "list1 = [11, 12, 4, 3]\n",
    "print(list1)\n",
    "print(\"product: \") \n",
    "print(mul_list(list1))"
   ]
  },
  {
   "cell_type": "markdown",
   "id": "078681db",
   "metadata": {},
   "source": [
    "### 3. Write a Python program to find smallest number in a list?"
   ]
  },
  {
   "cell_type": "code",
   "execution_count": 5,
   "id": "e8b01c2e",
   "metadata": {},
   "outputs": [
    {
     "name": "stdout",
     "output_type": "stream",
     "text": [
      "smallest in  [3, 9, 7, 3, 6, 5, 7, 24, 6] is\n",
      "3\n"
     ]
    }
   ],
   "source": [
    "def smallest(list):\n",
    "    small= list[0]\n",
    "    for i in list:\n",
    "        if i<small:\n",
    "            small=i\n",
    "    return small\n",
    "\n",
    "#list\n",
    "list=[3, 9, 7, 3, 6, 5, 7, 24, 6]\n",
    "print(\"smallest in \",list,\"is\")\n",
    "print(smallest(list))\n"
   ]
  },
  {
   "cell_type": "markdown",
   "id": "12b04397",
   "metadata": {},
   "source": [
    "### 4. Write a Python program to find largest number in a list?"
   ]
  },
  {
   "cell_type": "code",
   "execution_count": 6,
   "id": "8635839b",
   "metadata": {},
   "outputs": [
    {
     "name": "stdout",
     "output_type": "stream",
     "text": [
      "largest in  [3, 9, 7, 3, 6, 5, 7, 24, 6] is\n",
      "24\n"
     ]
    }
   ],
   "source": [
    "def largest(list):\n",
    "    large= list[0]\n",
    "    for i in list:\n",
    "        if i>large:\n",
    "            large=i\n",
    "    return large\n",
    "\n",
    "#list\n",
    "list=[3, 9, 7, 3, 6, 5, 7, 24, 6]\n",
    "print(\"largest in \",list,\"is\")\n",
    "print(largest(list))\n"
   ]
  },
  {
   "cell_type": "markdown",
   "id": "86442b51",
   "metadata": {},
   "source": [
    "### 5. Write a Python program to find second largest number in a list?"
   ]
  },
  {
   "cell_type": "code",
   "execution_count": 8,
   "id": "ebcf9c42",
   "metadata": {},
   "outputs": [
    {
     "name": "stdout",
     "output_type": "stream",
     "text": [
      "Enter size of list 5\n",
      "Enter element of list 1203\n",
      "Enter element of list 98\n",
      "Enter element of list 323\n",
      "Enter element of list 3232\n",
      "Enter element of list 13\n",
      "second largest in  [1203, 98, 323, 3232, 13] is\n",
      "1203\n"
     ]
    }
   ],
   "source": [
    "def second_largest(list):\n",
    "    list.sort()\n",
    "    return list[-2]\n",
    "\n",
    "#input of list\n",
    "li=[]\n",
    "n=int(input(\"Enter size of list \"))\n",
    "for i in range(0,n):\n",
    "    e=int(input(\"Enter element of list \"))\n",
    "    li.append(e)\n",
    "\n",
    "#smallest\n",
    "print(\"second largest in \",li,\"is\")\n",
    "print(second_largest(li))           "
   ]
  },
  {
   "cell_type": "markdown",
   "id": "10964d7d",
   "metadata": {},
   "source": [
    "### 6. Write a Python program to find N largest elements from a list?"
   ]
  },
  {
   "cell_type": "code",
   "execution_count": 9,
   "id": "1806d3aa",
   "metadata": {},
   "outputs": [
    {
     "name": "stdout",
     "output_type": "stream",
     "text": [
      "2 max elements in  [2, 6, 41, 85, 0, 3, 7, 6, 10]\n",
      "[85, 41]\n"
     ]
    }
   ],
   "source": [
    "def N_max_elements(list, N):\n",
    "    result_list = []\n",
    "    for i in range(0, N): \n",
    "        maximum = 0\n",
    "        for j in range(len(list)):     \n",
    "            if list[j] > maximum:\n",
    "                maximum = list[j]        \n",
    "        list.remove(maximum)\n",
    "        result_list.append(maximum)  \n",
    "    return result_list\n",
    "list1 = [2, 6, 41, 85, 0, 3, 7, 6, 10]\n",
    "N = 2\n",
    "\n",
    "print(N, \"max elements in \",list1)\n",
    "  \n",
    "# Calling and printing the function\n",
    "print(N_max_elements(list1, N))"
   ]
  },
  {
   "cell_type": "markdown",
   "id": "2f1a1e98",
   "metadata": {},
   "source": [
    "### 7. Write a Python program to print even numbers in a list?"
   ]
  },
  {
   "cell_type": "code",
   "execution_count": 11,
   "id": "bf2ae39f",
   "metadata": {},
   "outputs": [
    {
     "name": "stdout",
     "output_type": "stream",
     "text": [
      "Enter size of list 5\n",
      "Enter element of list 1111\n",
      "Enter element of list 99\n",
      "Enter element of list 71\n",
      "Enter element of list 12\n",
      "Enter element of list 12\n",
      "Even numbers in  [1111, 99, 71, 12, 12]\n",
      "[12, 12]\n"
     ]
    }
   ],
   "source": [
    "def even(list):\n",
    "    new_list=[]\n",
    "    for i in list:\n",
    "        if i%2==0:               \n",
    "            new_list.append(i)\n",
    "    return new_list\n",
    "\n",
    "li=[]\n",
    "n=int(input(\"Enter size of list \"))\n",
    "for i in range(0,n):\n",
    "    e=int(input(\"Enter element of list \"))\n",
    "    li.append(e)\n",
    "\n",
    "print(\"Even numbers in \",li)\n",
    "print(even(li))"
   ]
  },
  {
   "cell_type": "markdown",
   "id": "989bb324",
   "metadata": {},
   "source": [
    "### 8. Write a Python program to print odd numbers in a List?"
   ]
  },
  {
   "cell_type": "code",
   "execution_count": 13,
   "id": "19481c3d",
   "metadata": {},
   "outputs": [
    {
     "name": "stdout",
     "output_type": "stream",
     "text": [
      "Enter size of list 4\n",
      "Enter element of list 12\n",
      "Enter element of list 24\n",
      "Enter element of list 31\n",
      "Enter element of list 124\n",
      "Odd numbers in  [12, 24, 31, 124]\n",
      "[31]\n"
     ]
    }
   ],
   "source": [
    "def even(list):\n",
    "    new_list=[]\n",
    "    for i in list:\n",
    "        if i%2!=0:               \n",
    "            new_list.append(i)\n",
    "    return new_list\n",
    "\n",
    "li=[]\n",
    "n=int(input(\"Enter size of list \"))\n",
    "for i in range(0,n):\n",
    "    e=int(input(\"Enter element of list \"))\n",
    "    li.append(e)\n",
    "\n",
    "print(\"Odd numbers in \",li)\n",
    "print(even(li))"
   ]
  },
  {
   "cell_type": "markdown",
   "id": "185b7b13",
   "metadata": {},
   "source": [
    "### 9. Write a Python program to Remove empty List from List?"
   ]
  },
  {
   "cell_type": "code",
   "execution_count": 14,
   "id": "f8b91463",
   "metadata": {},
   "outputs": [
    {
     "name": "stdout",
     "output_type": "stream",
     "text": [
      "The original list is : [5, 6, [], 3, [], [], 9]\n",
      "List after empty list removal : [5, 6, 3, 9]\n"
     ]
    }
   ],
   "source": [
    "test_list = [5, 6, [], 3, [], [], 9]\n",
    "print(\"The original list is : \" + str(test_list))\n",
    "res = [ele for ele in test_list if ele != []]\n",
    "print(\"List after empty list removal : \" + str(res))"
   ]
  },
  {
   "cell_type": "markdown",
   "id": "278cfacc",
   "metadata": {},
   "source": [
    "### 10. Write a Python program to Cloning or Copying a list?"
   ]
  },
  {
   "cell_type": "code",
   "execution_count": 15,
   "id": "1e8151cb",
   "metadata": {},
   "outputs": [
    {
     "name": "stdout",
     "output_type": "stream",
     "text": [
      "Enter size of list 3\n",
      "Enter element of list 12\n",
      "Enter element of list 334\n",
      "Enter element of list 3\n",
      "Original list:  [12, 334, 3]\n",
      "After cloning:  [12, 334, 3]\n"
     ]
    }
   ],
   "source": [
    "li=[]\n",
    "n=int(input(\"Enter size of list \"))\n",
    "for i in range(0,n):\n",
    "    e=int(input(\"Enter element of list \"))\n",
    "    li.append(e)\n",
    "print(\"Original list: \",li)\n",
    "\n",
    "#cloning\n",
    "list_copy = li[:]\n",
    "print(\"After cloning: \",list_copy)"
   ]
  },
  {
   "cell_type": "markdown",
   "id": "b359bedf",
   "metadata": {},
   "source": [
    "### 11. Write a Python program to Count occurrences of an element in a list?"
   ]
  },
  {
   "cell_type": "code",
   "execution_count": 17,
   "id": "95312923",
   "metadata": {},
   "outputs": [
    {
     "name": "stdout",
     "output_type": "stream",
     "text": [
      "Enter size of list 5\n",
      "Enter element of list 212\n",
      "Enter element of list 11\n",
      "Enter element of list 12233\n",
      "Enter element of list 211\n",
      "Enter element of list 11\n",
      "Original list:  [212, 11, 12233, 211, 11]\n",
      "Enter element to be checked list: 11\n",
      "11  has occurred  2 times\n"
     ]
    }
   ],
   "source": [
    "def count_occurrence(list, n):\n",
    "    count=0\n",
    "    for i in list:\n",
    "        if(i==n):\n",
    "            count=count+1\n",
    "    return count\n",
    "\n",
    "#input list\n",
    "li=[]\n",
    "n=int(input(\"Enter size of list \"))\n",
    "for i in range(0,n):\n",
    "    e=int(input(\"Enter element of list \"))\n",
    "    li.append(e)\n",
    "print(\"Original list: \",li)\n",
    "\n",
    "x=int(input(\"Enter element to be checked list: \"))\n",
    "\n",
    "#function call\n",
    "print(x,\" has occurred \",count_occurrence(li, x),\"times\")"
   ]
  }
 ],
 "metadata": {
  "kernelspec": {
   "display_name": "Python 3 (ipykernel)",
   "language": "python",
   "name": "python3"
  },
  "language_info": {
   "codemirror_mode": {
    "name": "ipython",
    "version": 3
   },
   "file_extension": ".py",
   "mimetype": "text/x-python",
   "name": "python",
   "nbconvert_exporter": "python",
   "pygments_lexer": "ipython3",
   "version": "3.9.7"
  },
  "toc": {
   "base_numbering": 1,
   "nav_menu": {},
   "number_sections": true,
   "sideBar": true,
   "skip_h1_title": false,
   "title_cell": "Table of Contents",
   "title_sidebar": "Contents",
   "toc_cell": false,
   "toc_position": {},
   "toc_section_display": true,
   "toc_window_display": false
  }
 },
 "nbformat": 4,
 "nbformat_minor": 5
}
